{
 "cells": [
  {
   "cell_type": "code",
   "execution_count": null,
   "id": "534ab565-d848-463f-a3be-39d74a082e1f",
   "metadata": {},
   "outputs": [],
   "source": [
    "weight = int(input(\"please put your weight\"))\n",
    "height = float(input(\"please put your height\"))\n",
    "heightbmi = (height ** 2)\n",
    "bmi = float(weight/heightbmi)*10000\n",
    "print(bmi)\n",
    "if(bmi < 16):\n",
    "    print('Severe Thinness')\n",
    "elif( bmi <= 17):\n",
    "    print('Moderate Thinness')\n",
    "elif( bmi <= 18.5):\n",
    "    print('Mild Thinness')\n",
    "elif( bmi <= 25):\n",
    "    print('Normal')\n",
    "elif( bmi <= 30):\n",
    "    print('Overweight')\n",
    "elif( bmi <= 35):\n",
    "    print('Obese Class I')\n",
    "elif( bmi <= 40):\n",
    "    print('Obese Class II')\n",
    "elif( bmi > 40):\n",
    "    print('Obese Class III')\n",
    "\n",
    "\n",
    "\n",
    "    \n"
   ]
  }
 ],
 "metadata": {
  "kernelspec": {
   "display_name": "Python 3 (ipykernel)",
   "language": "python",
   "name": "python3"
  },
  "language_info": {
   "codemirror_mode": {
    "name": "ipython",
    "version": 3
   },
   "file_extension": ".py",
   "mimetype": "text/x-python",
   "name": "python",
   "nbconvert_exporter": "python",
   "pygments_lexer": "ipython3",
   "version": "3.11.7"
  }
 },
 "nbformat": 4,
 "nbformat_minor": 5
}
