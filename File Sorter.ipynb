{
 "cells": [
  {
   "cell_type": "code",
   "execution_count": 15,
   "id": "af118c58-c78d-4681-ba73-77245bedcfb6",
   "metadata": {},
   "outputs": [],
   "source": [
    "import os,shutil"
   ]
  },
  {
   "cell_type": "code",
   "execution_count": 16,
   "id": "0bcceb26-3ffc-494d-8329-65b69a42e5b9",
   "metadata": {},
   "outputs": [],
   "source": [
    "path = r\"C:\\Users\\User\\Desktop\\Data analyst\""
   ]
  },
  {
   "cell_type": "code",
   "execution_count": 17,
   "id": "4f00bb42-d2cf-4251-8d62-14cb5e9687b3",
   "metadata": {},
   "outputs": [
    {
     "data": {
      "text/plain": [
       "[]"
      ]
     },
     "execution_count": 17,
     "metadata": {},
     "output_type": "execute_result"
    }
   ],
   "source": [
    "file_name = os.listdir(path)"
   ]
  },
  {
   "cell_type": "code",
   "execution_count": 25,
   "id": "2f8f3c55-cd6f-48f9-bc4a-80e1adf44e8f",
   "metadata": {},
   "outputs": [],
   "source": [
    "folder_names = ['csv files', 'image files', 'text files']\n",
    "\n",
    "for x in folder_names:\n",
    "    searchpath = path + \"\\ \"+ str(x)\n",
    "    if(os.path.exists(searchpath == False)):\n",
    "        os.makedirs(searchpath)"
   ]
  },
  {
   "cell_type": "code",
   "execution_count": null,
   "id": "0c237239-aa81-4689-a136-57350861c579",
   "metadata": {},
   "outputs": [],
   "source": [
    "for file in file_name:\n",
    "    if \".csv\" in file and not os.path.exists(path + \"csv files/\" + file):\n",
    "        shutil.move(path + file, path + \"csv files/\" + file)"
   ]
  }
 ],
 "metadata": {
  "kernelspec": {
   "display_name": "Python 3 (ipykernel)",
   "language": "python",
   "name": "python3"
  },
  "language_info": {
   "codemirror_mode": {
    "name": "ipython",
    "version": 3
   },
   "file_extension": ".py",
   "mimetype": "text/x-python",
   "name": "python",
   "nbconvert_exporter": "python",
   "pygments_lexer": "ipython3",
   "version": "3.11.7"
  }
 },
 "nbformat": 4,
 "nbformat_minor": 5
}
