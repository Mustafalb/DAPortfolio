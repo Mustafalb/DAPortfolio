{
 "cells": [
  {
   "cell_type": "code",
   "execution_count": 36,
   "id": "af118c58-c78d-4681-ba73-77245bedcfb6",
   "metadata": {},
   "outputs": [],
   "source": [
    "import os,shutil"
   ]
  },
  {
   "cell_type": "code",
   "execution_count": 37,
   "id": "0bcceb26-3ffc-494d-8329-65b69a42e5b9",
   "metadata": {},
   "outputs": [],
   "source": [
    "path = r\"C:\\Users\\User\\Desktop\\Data analyst\""
   ]
  },
  {
   "cell_type": "code",
   "execution_count": 38,
   "id": "4f00bb42-d2cf-4251-8d62-14cb5e9687b3",
   "metadata": {},
   "outputs": [
    {
     "name": "stdout",
     "output_type": "stream",
     "text": [
      "['New Text Document (2).jpg', 'New Text Document (2).png', 'New Text Document.txt']\n"
     ]
    }
   ],
   "source": [
    "file_name = os.listdir(path)\n",
    "print(file_name)"
   ]
  },
  {
   "cell_type": "code",
   "execution_count": 39,
   "id": "b3c5a50f-6314-4503-8ce3-b4dc18269c03",
   "metadata": {},
   "outputs": [
    {
     "name": "stdout",
     "output_type": "stream",
     "text": [
      "C:\\Users\\User\\Desktop\\Data analyst\\csv files\n",
      "C:\\Users\\User\\Desktop\\Data analyst\\image files\n",
      "C:\\Users\\User\\Desktop\\Data analyst\\text files\n"
     ]
    }
   ],
   "source": [
    "folder_names = ['csv files', 'image files', 'text files']\n",
    "\n",
    "for x in folder_names:\n",
    "    \n",
    "    searchpath = path + \"\\\\\"+ str(x)\n",
    "    print(searchpath)\n",
    "    if not os.path.exists(searchpath):  # Correct way to check non-existence\n",
    "        os.makedirs(searchpath)"
   ]
  },
  {
   "cell_type": "code",
   "execution_count": 50,
   "id": "0c237239-aa81-4689-a136-57350861c579",
   "metadata": {},
   "outputs": [],
   "source": [
    "for file in file_name:\n",
    "    if (os.path.isfile(path + \"\\\\\" + file)):\n",
    "        \n",
    "        if \".csv\" in file.lower() and not os.path.exists(os.path.join(path, \"csv files\", file)):\n",
    "            shutil.move(path + \"\\\\\" + file, os.path.join(path, \"csv files\", file))\n",
    "        elif any(ext in file.lower() for ext in (\".png\", \".jpeg\", \".jpg\", \".tiff\")) and not os.path.exists(os.path.join(path, \"image files\", file)):\n",
    "            shutil.move(path + \"\\\\\" + file, os.path.join(path, \"image files\", file))\n",
    "        elif \".txt\" in file.lower() and not os.path.exists(os.path.join(path, \"text files\", file)):\n",
    "            shutil.move(path + \"\\\\\" + file, os.path.join(path, \"text files\", file))"
   ]
  },
  {
   "cell_type": "code",
   "execution_count": null,
   "id": "c43b1c6b-01c0-42eb-b606-e0fdf51e8b69",
   "metadata": {},
   "outputs": [],
   "source": []
  },
  {
   "cell_type": "code",
   "execution_count": null,
   "id": "ca2b5eb2-3d3f-46a5-a075-991bf19cf4d4",
   "metadata": {},
   "outputs": [],
   "source": []
  }
 ],
 "metadata": {
  "kernelspec": {
   "display_name": "Python 3 (ipykernel)",
   "language": "python",
   "name": "python3"
  },
  "language_info": {
   "codemirror_mode": {
    "name": "ipython",
    "version": 3
   },
   "file_extension": ".py",
   "mimetype": "text/x-python",
   "name": "python",
   "nbconvert_exporter": "python",
   "pygments_lexer": "ipython3",
   "version": "3.11.7"
  }
 },
 "nbformat": 4,
 "nbformat_minor": 5
}
