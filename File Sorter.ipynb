{
 "cells": [
  {
   "cell_type": "code",
   "execution_count": 11,
   "id": "af118c58-c78d-4681-ba73-77245bedcfb6",
   "metadata": {},
   "outputs": [],
   "source": [
    "import os,shutil"
   ]
  },
  {
   "cell_type": "code",
   "execution_count": 12,
   "id": "0bcceb26-3ffc-494d-8329-65b69a42e5b9",
   "metadata": {},
   "outputs": [],
   "source": [
    "path = r\"C:\\Users\\User\\Desktop\\Data analyst\""
   ]
  },
  {
   "cell_type": "code",
   "execution_count": 13,
   "id": "4f00bb42-d2cf-4251-8d62-14cb5e9687b3",
   "metadata": {},
   "outputs": [],
   "source": [
    "file_name = os.listdir(path)"
   ]
  },
  {
   "cell_type": "code",
   "execution_count": 27,
   "id": "b3c5a50f-6314-4503-8ce3-b4dc18269c03",
   "metadata": {},
   "outputs": [
    {
     "name": "stdout",
     "output_type": "stream",
     "text": [
      "C:\\Users\\User\\Desktop\\Data analyst\\csv files\n",
      "C:\\Users\\User\\Desktop\\Data analyst\\image files\n",
      "C:\\Users\\User\\Desktop\\Data analyst\\text files\n"
     ]
    }
   ],
   "source": [
    "folder_names = ['csv files', 'image files', 'text files']\n",
    "\n",
    "for x in folder_names:\n",
    "    \n",
    "    searchpath = path + \"\\\\\"+ str(x)\n",
    "    print(searchpath)\n",
    "    if not os.path.exists(searchpath):  # Correct way to check non-existence\n",
    "        os.makedirs(searchpath)"
   ]
  },
  {
   "cell_type": "code",
   "execution_count": 28,
   "id": "0c237239-aa81-4689-a136-57350861c579",
   "metadata": {},
   "outputs": [],
   "source": [
    "for file in file_name:\n",
    "    if \".csv\" in file and not os.path.exists(path + \"/csv files/\" + file):\n",
    "        shutil.move(path + \"\\\\\" + file, path + \"/csv files/\" + file)\n",
    "    elif \".png\" or \".jpeg\" or \".jpg\" \".tiff\" in file and not os.path.exists(path + \"image files/\" + file):\n",
    "        shutil.move(path + \"\\\\\" + file, path + \"/image files/\" + file)\n",
    "    elif \".txt\" in file and not os.path.exists(path + \"/text files/\" + file):\n",
    "        shutil.move(path + \"\\\\\" + file, path + \"/text files/\" + file)"
   ]
  },
  {
   "cell_type": "code",
   "execution_count": null,
   "id": "c43b1c6b-01c0-42eb-b606-e0fdf51e8b69",
   "metadata": {},
   "outputs": [],
   "source": []
  }
 ],
 "metadata": {
  "kernelspec": {
   "display_name": "Python 3 (ipykernel)",
   "language": "python",
   "name": "python3"
  },
  "language_info": {
   "codemirror_mode": {
    "name": "ipython",
    "version": 3
   },
   "file_extension": ".py",
   "mimetype": "text/x-python",
   "name": "python",
   "nbconvert_exporter": "python",
   "pygments_lexer": "ipython3",
   "version": "3.11.7"
  }
 },
 "nbformat": 4,
 "nbformat_minor": 5
}
